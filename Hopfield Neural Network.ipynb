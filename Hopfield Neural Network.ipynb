{
 "cells": [
  {
   "cell_type": "code",
   "execution_count": 1,
   "metadata": {
    "collapsed": true
   },
   "outputs": [],
   "source": [
    "# Author: Chad Lohrli \n",
    "# Date: December 24,2017\n",
    "# Discription: Pattern Recognition w/ Hopfield Neural Networks\n",
    "# Library: Numpy"
   ]
  },
  {
   "cell_type": "code",
   "execution_count": 19,
   "metadata": {},
   "outputs": [
    {
     "name": "stdout",
     "output_type": "stream",
     "text": [
      "--Pattern 1--\n",
      "\n",
      "U(t+1): [1 1 1 1 1]\n",
      "match: [[False  True  True False  True]]\n",
      "U(t+1): [-1  1  1  1  1]\n",
      "match: [[ True  True  True False  True]]\n",
      "U(t+1): [-1  1  1  1  1]\n",
      "match: [[ True  True  True False  True]]\n",
      "U(t+1): [-1  1  1  1  1]\n",
      "match: [[ True  True  True False  True]]\n",
      "U(t+1): [-1  1  1 -1  1]\n",
      "match: [[ True  True  True  True  True]]\n",
      "\n",
      "--Pattern 2--\n",
      "\n",
      "U(t+1): [ 1 -1  1  1  1]\n",
      "match: [[ True  True  True False  True]]\n",
      "U(t+1): [ 1 -1  1 -1  1]\n",
      "match: [[ True  True  True  True  True]]\n",
      "U(t+1): [ 1 -1  1 -1  1]\n",
      "match: [[ True  True  True  True  True]]\n",
      "U(t+1): [ 1 -1  1 -1  1]\n",
      "match: [[ True  True  True  True  True]]\n",
      "U(t+1): [ 1 -1  1 -1  1]\n",
      "match: [[ True  True  True  True  True]]\n"
     ]
    }
   ],
   "source": [
    "# Hopfield Network\n",
    "import numpy as np\n",
    "\n",
    "N = 5.0; #5 node networks\n",
    "\n",
    "def Train(mem1,mem2,N):\n",
    "    w = (1/N)*(np.dot(mem1.T,mem1) + np.dot(mem2.T,mem2))\n",
    "    np.fill_diagonal(w,0)\n",
    "    return w\n",
    "    \n",
    "def Probe():\n",
    "    return np.array([1,1,1,1,1])\n",
    "    \n",
    "    \n",
    "def DEvolution(pat,w,mem):\n",
    "    \n",
    "    Ut = Probe();\n",
    "    #while we haven't coverged, keep updating nodes via pattern\n",
    "    while(np.sum(Ut == mem) != 5):\n",
    "        for j in pat:\n",
    "            p = np.sign(w[j].dot(Ut.T))\n",
    "            if p == 0:\n",
    "                p = 1\n",
    "            Ut[j] = p\n",
    "            print \"U(t+1): \" + str(Ut)\n",
    "            print \"match: \" + str(Ut == mem)\n",
    "            \n",
    "    \n",
    "#memory of network    \n",
    "mem1 = np.array([[-1,1,1,-1,1]]);\n",
    "mem2 = np.array([[1,-1,1,-1,1]]);\n",
    "\n",
    "#probing patterns\n",
    "pat1 = np.array([3,1,5,2,4]) - 1\n",
    "pat2 = np.array([2,4,3,5,1]) - 1\n",
    "\n",
    "w = Train(mem1,mem2,N)\n",
    "print(\"--Pattern 1--\")\n",
    "print(\"\")\n",
    "DEvolution(pat1,w,mem1)\n",
    "print(\"\")\n",
    "print(\"--Pattern 2--\")\n",
    "print(\"\")\n",
    "DEvolution(pat2,w,mem2)"
   ]
  },
  {
   "cell_type": "code",
   "execution_count": null,
   "metadata": {
    "collapsed": true
   },
   "outputs": [],
   "source": []
  }
 ],
 "metadata": {
  "kernelspec": {
   "display_name": "Python 2",
   "language": "python",
   "name": "python2"
  },
  "language_info": {
   "codemirror_mode": {
    "name": "ipython",
    "version": 2
   },
   "file_extension": ".py",
   "mimetype": "text/x-python",
   "name": "python",
   "nbconvert_exporter": "python",
   "pygments_lexer": "ipython2",
   "version": "2.7.13"
  }
 },
 "nbformat": 4,
 "nbformat_minor": 2
}
