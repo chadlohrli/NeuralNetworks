{
 "cells": [
  {
   "cell_type": "code",
   "execution_count": null,
   "metadata": {
    "collapsed": true
   },
   "outputs": [],
   "source": [
    "# Author: Chad Lohrli \n",
    "# Date: December 24,2017\n",
    "# Discription: Classifying Images w/ 2 layer Feed-Forward Neural Network\n",
    "# Library: Numpy"
   ]
  },
  {
   "cell_type": "code",
   "execution_count": 2,
   "metadata": {
    "collapsed": true
   },
   "outputs": [],
   "source": [
    "#Libraries\n",
    "import numpy as np\n",
    "from sklearn.decomposition import PCA\n",
    "import matplotlib.pyplot as plt\n",
    "import matplotlib\n",
    "%matplotlib inline"
   ]
  },
  {
   "cell_type": "code",
   "execution_count": 3,
   "metadata": {},
   "outputs": [
    {
     "name": "stdout",
     "output_type": "stream",
     "text": [
      "Training Error:0.499997861631\n",
      "Training Error:0.0414556699425\n",
      "Training Error:0.0159597874168\n",
      "Training Error:0.00962593767953\n",
      "Training Error:0.00679619281028\n",
      "\n",
      "Testing Error:0.12965660213\n",
      "Test Accuracy:0.866666666667\n"
     ]
    },
    {
     "data": {
      "image/png": "[encoded data removed]",
      "text/plain": [
       "<matplotlib.figure.Figure at 0x10c0bf590>"
      ]
     },
     "metadata": {},
     "output_type": "display_data"
    },
    {
     "data": {
      "image/png": "[encoded data removed]",
      "text/plain": [
       "<matplotlib.figure.Figure at 0x10c0bfd10>"
      ]
     },
     "metadata": {},
     "output_type": "display_data"
    }
   ],
   "source": [
    "#data processing\n",
    "data = np.loadtxt('nn_data.txt', delimiter=',', usecols=[0,1,2,3])\n",
    "d1 = np.insert(data[0:50,:], 4, 0, axis=1) #Iris-versicolor = 0\n",
    "d2 = np.insert(data[50:100,:], 4, 1, axis=1) #Iris-verginica = 1\n",
    "\n",
    "test = np.vstack((d1[0:15,:],d2[0:15,:]))\n",
    "train = np.vstack((d1[15:50,:],d2[15:50,:]))\n",
    "\n",
    "xtrain = train[:,0:4]\n",
    "ytrain = train[:,4:5]\n",
    "\n",
    "xtest = test[:,0:4]\n",
    "ytest = test[:,4:5]\n",
    "\n",
    "# --PCA Data Plotting-- #\n",
    "\n",
    "target_names = ['Iris-versicolor', 'Iris-verginica']\n",
    "\n",
    "pca = PCA(n_components=2)\n",
    "Xplot = pca.fit(xtest).transform(xtest)\n",
    "yplot = ytest.reshape(30,)\n",
    "\n",
    "plt.figure(0)\n",
    "colors = ['navy', 'turquoise']\n",
    "lw = 2\n",
    "\n",
    "for color, i, target_name in zip(colors, [0, 1], target_names):\n",
    "    plt.scatter(Xplot[yplot == i, 0], Xplot[yplot == i, 1], color=color, alpha=.8, lw=lw,\n",
    "                label=target_name)\n",
    "plt.legend(loc='best', shadow=False, scatterpoints=1)\n",
    "plt.title('PCA of IRIS dataset')\n",
    "\n",
    "# -- Neural Network\n",
    "\n",
    "xtrain = xtrain.T\n",
    "ytrain = ytrain.T\n",
    "\n",
    "xtest = xtest.T\n",
    "ytest = ytest.T\n",
    "\n",
    "np.random.seed(2);\n",
    "\n",
    "def sigmoid(z, deriv=False):\n",
    "    if(deriv==True):\n",
    "        return(z*(1-z))\n",
    "    return 1/(1+np.exp(-z))\n",
    "\n",
    "def loss(y,a):\n",
    "    p0 = np.log(a)\n",
    "    p1 = np.log(1-a)\n",
    "    loss = -1*(np.sum(y*p0 + (1-y)*p1))\n",
    "    \n",
    "    return loss\n",
    "\n",
    "def forward(w,b,x,y):\n",
    "    z1 = np.dot(w[0],x) + b[0]\n",
    "    a1 = sigmoid(z1)\n",
    "    z2 = np.dot(w[1],a1) + b[1]\n",
    "    a2 = sigmoid(z2)\n",
    "    l = loss(y,a2)\n",
    "    \n",
    "    return l,a2,a1\n",
    "\n",
    "\n",
    "def gradientDescent(iters,alpha,w,b,x,y):\n",
    "    \n",
    "    lossaccum = []\n",
    "    \n",
    "    #backprop \n",
    "    for i in range(0, iters):\n",
    "        \n",
    "        \n",
    "        grads = forward(w,b,xtrain,ytrain)\n",
    "    \n",
    "        l = grads[0]\n",
    "        a2 = grads[1]\n",
    "        a1 = grads[2]\n",
    "        \n",
    "        dz2 = a2 - y\n",
    "        \n",
    "        lossaccum.append(l)\n",
    "        \n",
    "        if(i%5000 == 0):\n",
    "            #print(\"Loss: \" + str(l))\n",
    "            print(\"Training Error:\" + str(np.mean(np.abs(dz2))))\n",
    "        \n",
    "        dw2 = np.dot(dz2,a1.T)\n",
    "        db2 = np.sum(dz2,axis=1,keepdims=True)\n",
    "        da1 = np.dot(w[1].T,dz2)\n",
    "        dz1 = da1 * sigmoid(a1,deriv=True)\n",
    "        dw1 = np.dot(dz1,x.T)\n",
    "        db1 = np.sum(dz1,axis=1,keepdims=True)\n",
    "        \n",
    "        w[0] = w[0] - alpha*dw1\n",
    "        w[1] = w[1] - alpha*dw2\n",
    "        b[0] = b[0] - alpha*db1\n",
    "        b[1] = b[1] - alpha*db2\n",
    "\n",
    "    return w,b,lossaccum\n",
    "    \n",
    "    \n",
    "w1 = np.random.random((2,4)) * 0.01\n",
    "w2 = np.random.random((1,2)) * 0.01\n",
    "\n",
    "b1 = 0;\n",
    "b2 = 0;\n",
    "\n",
    "w = [w1,w2]\n",
    "b = [b1,b2]\n",
    "\n",
    "iters = 25000\n",
    "alpha = 0.001\n",
    "\n",
    "w,b,l = gradientDescent(iters,alpha,w,b,xtrain,ytrain);\n",
    "\n",
    "plt.figure(1)\n",
    "plt.plot(l,label='Training Loss')\n",
    "plt.xlabel('iterations')\n",
    "plt.ylabel('loss')\n",
    "plt.legend()\n",
    "\n",
    "print \"\"\n",
    "\n",
    "# Testing\n",
    "grads = forward(w,b,xtest,ytest)\n",
    "a2 = grads[1]\n",
    "print(\"Testing Error:\" + str(np.mean(np.abs(a2 - ytest))))\n",
    "\n",
    "predict = a2\n",
    "predict[predict >= 0.5] = 1\n",
    "predict[predict < 0.5] = 0\n",
    "accuracy = np.sum((predict == ytest)) / (1.0*ytest.shape[1])\n",
    "print(\"Test Accuracy:\" + str(accuracy))"
   ]
  },
  {
   "cell_type": "code",
   "execution_count": null,
   "metadata": {
    "collapsed": true
   },
   "outputs": [],
   "source": []
  }
 ],
 "metadata": {
  "kernelspec": {
   "display_name": "Python 2",
   "language": "python",
   "name": "python2"
  },
  "language_info": {
   "codemirror_mode": {
    "name": "ipython",
    "version": 2
   },
   "file_extension": ".py",
   "mimetype": "text/x-python",
   "name": "python",
   "nbconvert_exporter": "python",
   "pygments_lexer": "ipython2",
   "version": "2.7.13"
  }
 },
 "nbformat": 4,
 "nbformat_minor": 2
}
