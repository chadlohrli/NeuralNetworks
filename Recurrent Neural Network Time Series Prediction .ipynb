{
 "cells": [
  {
   "cell_type": "code",
   "execution_count": 1,
   "metadata": {
    "collapsed": true
   },
   "outputs": [],
   "source": [
    "# Author: Chad Lohrli + COGS181 Starter Code\n",
    "# Date: December 24,2017\n",
    "# Discription: Predicting Time Series Points w/ Recurrent Neural Network\n",
    "# Framework: Tensorflow"
   ]
  },
  {
   "cell_type": "code",
   "execution_count": 2,
   "metadata": {
    "collapsed": true
   },
   "outputs": [],
   "source": [
    "#Libraries\n",
    "from tensorflow.python.framework import ops\n",
    "from tensorflow.contrib import rnn\n",
    "import matplotlib.pyplot as plt\n",
    "import tensorflow as tf\n",
    "import numpy as np\n",
    "import random\n",
    "%matplotlib inline"
   ]
  },
  {
   "cell_type": "code",
   "execution_count": 3,
   "metadata": {
    "collapsed": true
   },
   "outputs": [],
   "source": [
    "def generate_sample(f = 1.0, batch_size = 1,\n",
    "                    predict = 1, samples = 100):\n",
    "    \"\"\"\n",
    "    Generates data samples.\n",
    "    :param f: The frequency to use for all time series.\n",
    "    :param batch_size: The number of time series to generate.\n",
    "    :param predict: The number of future samples to generate.\n",
    "    :param samples: The number of past (and current) samples to generate.\n",
    "    :return: Tuple that contains the past times and values as well as the future times and values. In all outputs,\n",
    "             each row represents one time series of the batch.\n",
    "    \"\"\"\n",
    "    const = 100.0\n",
    "\n",
    "    # Empty batch vectors.\n",
    "    T = np.empty((batch_size, samples))\n",
    "    Y = np.empty((batch_size, samples))\n",
    "    FT = np.empty((batch_size, predict))\n",
    "    FY = np.empty((batch_size, predict))\n",
    "\n",
    "    for i in range(batch_size):\n",
    "        # We define the range of t here.\n",
    "        t = np.arange(0, samples + predict) / const #size=101\n",
    "        \n",
    "        # Here we want to sample some points for sine function.\n",
    "        t0 = random.choice(t)             # t0 is a random single value.\n",
    "        y = np.sin(2*np.pi*f*(t+t0))              # y = F(t).\n",
    "        \n",
    "        T[i, :] = t[0:samples]        # t_1 ... t_{n_samples}\n",
    "        Y[i, :] = y[0:samples]        # y_1 ... y_{n_samples}\n",
    "\n",
    "        FT[i, :] = t[samples:samples+predict]      # t_{n_samples+1} ... t_{n_samples+n_predict}\n",
    "        FY[i, :] = y[samples:samples+predict]     # y_{n_samples+1} ... y_{n_samples+n_predict}\n",
    "        \n",
    "    return T, Y, FT, FY"
   ]
  },
  {
   "cell_type": "code",
   "execution_count": 4,
   "metadata": {
    "collapsed": true
   },
   "outputs": [],
   "source": [
    "def RNN(x, weights, biases, n_input, n_steps, n_hidden):\n",
    "    # Prepare data shape to match `rnn` function requirements\n",
    "    # Current data input shape: (batch_size, n_steps, n_input)\n",
    "    # Required shape: 'n_steps' tensors list of shape (batch_size, n_input)\n",
    "\n",
    "    # Permuting batch_size and n_steps\n",
    "    x = tf.transpose(x, [1, 0, 2])\n",
    "    # Reshaping to (n_steps*batch_size, n_input).\n",
    "    x = tf.reshape(x, [-1, n_input])\n",
    "    # Split to get a list of 'n_steps' tensors of shape (batch_size, n_input).\n",
    "    x = tf.split(x, n_steps, axis=0)\n",
    "\n",
    "    # Define a RNN cell with TensorFlow.\n",
    "    rnn_cell = rnn.BasicRNNCell(n_hidden)\n",
    "    \n",
    "    # Get RNN cell output.\n",
    "    # Hint: Use rnn.static_rnn()\n",
    "    outputs, states = rnn.static_rnn(rnn_cell,x, dtype=tf.float32)\n",
    "    \n",
    "    # Linear layer and tanh activation, using RNN inner loop last output.\n",
    "    # Hint: Use tf.tanh, tf.nn.bias_add(), tf.matmul(), weights, biases.\n",
    "    final_output = tf.tanh(tf.matmul(outputs[-1],weights) + biases)\n",
    "    \n",
    "    return final_output"
   ]
  },
  {
   "cell_type": "code",
   "execution_count": 5,
   "metadata": {
    "collapsed": true
   },
   "outputs": [],
   "source": [
    "# Parameters\n",
    "learning_rate = 0.001\n",
    "training_iters = 50000\n",
    "batch_size = 50\n",
    "display_step = 100\n",
    "\n",
    "# Network Parameters\n",
    "n_input = 1     # Input is sin(x).\n",
    "n_steps = 100   # Timesteps.\n",
    "n_hidden = 100  # Hidden layer num of features.\n",
    "n_outputs = 1   # Output is sin(x+1).\n",
    "\n",
    "# tf Graph input\n",
    "x = tf.placeholder(\"float\", [None, n_steps, n_input])\n",
    "y = tf.placeholder(\"float\", [None, n_outputs])\n",
    "\n",
    "# Define weights\n",
    "weights = tf.Variable(tf.random_normal([n_hidden, n_outputs]))\n",
    "biases = tf.Variable(tf.random_normal([n_outputs]))\n",
    "\n",
    "pred = RNN(x, weights, biases, n_input, n_steps, n_hidden)\n",
    "\n",
    "# Define loss (Euclidean distance) and optimizer.\n",
    "individual_losses = tf.reduce_sum(tf.squared_difference(pred, y), reduction_indices=1)\n",
    "loss = tf.reduce_mean(individual_losses)\n",
    "optimizer = tf.train.AdamOptimizer(learning_rate=learning_rate).minimize(loss)\n",
    "\n",
    "# Initializing the variables.\n",
    "init = tf.global_variables_initializer()"
   ]
  },
  {
   "cell_type": "code",
   "execution_count": 6,
   "metadata": {},
   "outputs": [
    {
     "name": "stdout",
     "output_type": "stream",
     "text": [
      "Iter 5000, Minibatch Loss= 0.004468\n",
      "Iter 10000, Minibatch Loss= 0.000144\n",
      "Iter 15000, Minibatch Loss= 0.000117\n",
      "Iter 20000, Minibatch Loss= 0.000091\n",
      "Iter 25000, Minibatch Loss= 0.000187\n",
      "Iter 30000, Minibatch Loss= 0.000097\n",
      "Iter 35000, Minibatch Loss= 0.000175\n",
      "Iter 40000, Minibatch Loss= 0.000334\n",
      "Iter 45000, Minibatch Loss= 0.000082\n",
      "Optimization Finished!\n"
     ]
    }
   ],
   "source": [
    "# Launch the graph.\n",
    "sess = tf.Session()\n",
    "sess.run(init)\n",
    "\n",
    "step = 1\n",
    "# Keep training until reach max iterations.\n",
    "while step * batch_size < training_iters:\n",
    "    _, batch_x, __, batch_y = generate_sample(f=1.0, batch_size=batch_size, samples=n_steps,\n",
    "                                              predict=n_outputs)\n",
    "\n",
    "    batch_x = batch_x.reshape((batch_size, n_steps, n_input))\n",
    "    batch_y = batch_y.reshape((batch_size, n_outputs))\n",
    "\n",
    "    # Run optimization op (backprop).\n",
    "    sess.run(optimizer, feed_dict={x: batch_x, y: batch_y})\n",
    "    if step % display_step == 0:\n",
    "        # Calculate batch loss.\n",
    "        loss_value = sess.run(loss, feed_dict={x: batch_x, y: batch_y})\n",
    "        print(\"Iter \" + str(step * batch_size) + \", Minibatch Loss= \" +\n",
    "              \"{:.6f}\".format(loss_value))\n",
    "    step += 1\n",
    "print(\"Optimization Finished!\")"
   ]
  },
  {
   "cell_type": "code",
   "execution_count": 7,
   "metadata": {
    "collapsed": true
   },
   "outputs": [],
   "source": [
    "# Test the prediction.\n",
    "t, start_y, next_t, expected_y = generate_sample(f=1, samples=n_steps, predict=50)\n",
    "\n",
    "pred_y = []\n",
    "y = start_y\n",
    "\n",
    "for i in range(50):\n",
    "    test_input = y.reshape((1, n_steps, n_input))\n",
    "    prediction = sess.run(pred, feed_dict={x: test_input})\n",
    "    prediction = prediction.squeeze()\n",
    "    pred_y.append(prediction)\n",
    "    y = np.append(y.squeeze()[1:], prediction)"
   ]
  },
  {
   "cell_type": "code",
   "execution_count": 8,
   "metadata": {},
   "outputs": [
    {
     "data": {
      "image/png": "[encoded data removed]",
      "text/plain": [
       "<matplotlib.figure.Figure at 0x11956f910>"
      ]
     },
     "metadata": {},
     "output_type": "display_data"
    }
   ],
   "source": [
    "# Remove the batch size dimensions.\n",
    "t = t.squeeze()\n",
    "start_y = start_y.squeeze()\n",
    "next_t = next_t.squeeze()\n",
    "\n",
    "plt.plot(t, start_y, color='black')\n",
    "plt.plot(np.append(t[-1], next_t), np.append(start_y[-1], expected_y), color='green', linestyle=':')\n",
    "plt.plot(np.append(t[-1], next_t), np.append(start_y[-1], pred_y), color='red')\n",
    "plt.ylim([-1, 1])\n",
    "plt.xlabel('time [t]')\n",
    "plt.ylabel('signal')\n",
    "\n",
    "plt.show()"
   ]
  },
  {
   "cell_type": "code",
   "execution_count": null,
   "metadata": {
    "collapsed": true
   },
   "outputs": [],
   "source": []
  }
 ],
 "metadata": {
  "kernelspec": {
   "display_name": "Python 2",
   "language": "python",
   "name": "python2"
  },
  "language_info": {
   "codemirror_mode": {
    "name": "ipython",
    "version": 2
   },
   "file_extension": ".py",
   "mimetype": "text/x-python",
   "name": "python",
   "nbconvert_exporter": "python",
   "pygments_lexer": "ipython2",
   "version": "2.7.13"
  }
 },
 "nbformat": 4,
 "nbformat_minor": 2
}
